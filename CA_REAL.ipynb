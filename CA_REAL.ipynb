{
 "cells": [
  {
   "cell_type": "code",
   "execution_count": 10,
   "metadata": {},
   "outputs": [
    {
     "data": {
      "text/plain": [
       "{'Name': 'Green ',\n",
       " 'Date': '30/01/2022',\n",
       " 'RHW': 37,\n",
       " 'OHW': 5,\n",
       " 'Regular rate': 16,\n",
       " 'Overtime rate': 24.0,\n",
       " 'Regular pay': 592,\n",
       " 'Overtime pay': 120.0,\n",
       " 'Gross pay': 712.0,\n",
       " 'Standard rate pay': 710,\n",
       " 'Higher rate pay': 2.0,\n",
       " 'Standard tax': 142.0,\n",
       " 'Higher tax': 0.8,\n",
       " 'Total tax': 142.8,\n",
       " 'Tax credit': 72,\n",
       " 'PRSI': 284.8,\n",
       " 'Net tax': 70.8,\n",
       " 'Net deductions': 355.6,\n",
       " 'Net pay': 356.4}"
      ]
     },
     "execution_count": 10,
     "metadata": {},
     "output_type": "execute_result"
    }
   ],
   "source": [
    " #Implement Employee Details\n",
    "with open('Employees.txt','w') as f:\n",
    "    f.write('''12345 Green Joe 37 16 1.5 72 710''')\n",
    "    f.close()\n",
    "#Implement Hours Details \n",
    "with open('Hours.txt','w') as f1:\n",
    "    f1.write('''12345 31/10/2021  42''')\n",
    "    f1.close()\n",
    "\n",
    "#create employee class and attributes\n",
    "class Employee:\n",
    "    Employees = {}\n",
    "    Std_rate = 0.2\n",
    "    Higher_rate = 0.4\n",
    "    \n",
    "    def __init__(self, staffId, Firstname, Lastname, Reghours, Hourlyrate, OTMultiple, Taxcredit, Standardband):\n",
    "        self.Employees = {}   \n",
    "        self.staffId = int(staffId)\n",
    "        self.Firstname = str(Firstname)\n",
    "        self.Lastname = str(Lastname)\n",
    "        self.Reghours = int(Reghours)\n",
    "        self.Hourlyrate = int(Hourlyrate)\n",
    "        self.OTMultiple = float(OTMultiple)\n",
    "        self.Taxcredit = int(Taxcredit)\n",
    "        self.Standardband = int(Standardband)\n",
    "\n",
    "\n",
    "    def configure(Employeesfile):\n",
    "        with open(Employeesfile) as f:\n",
    "            for line in f:\n",
    "                staffId,Firstname,Lastname,Reghours,Hourlyrate,OTMultiple,Taxcredit,Standardband = line.split()\n",
    "                Employee.Employees[staffId] = Employee(staffId,Firstname,Lastname,int(Reghours),int(Hourlyrate),float(OTMultiple),int(Taxcredit),int(Standardband))\n",
    "\n",
    "    def computepayment(self, Hoursworked, Date):\n",
    "        salary = dict()\n",
    "        salary['Name'] = self.Firstname + \" \"\n",
    "        salary['Date'] = Date\n",
    "        salary['RHW'] = min(Hoursworked, self.Reghours)#To calculate Regular Hours Worked\n",
    "        salary['OHW'] = max(0, Hoursworked - self.Reghours)#To calculate OverTime Hours Worked\n",
    "        salary['Regular rate'] = self.Hourlyrate\n",
    "        salary['Overtime rate'] = self.Hourlyrate * self.OTMultiple#To calculate Overtime rate\n",
    "        salary['Regular pay'] = self.Hourlyrate * salary['RHW']#To calculate Regular pay\n",
    "        salary['Overtime pay'] = max(salary['Overtime rate'] * salary['OHW'], 0)#To calculate Overtime pay\n",
    "        salary['Gross pay'] = salary['Regular pay'] + salary['Overtime pay']#To calculate Gross pay\n",
    "        salary['Standard rate pay'] = self.Standardband\n",
    "        salary['Higher rate pay'] = max(salary['Gross pay'] - self.Standardband, 0)#To calculate Higher rate pay\n",
    "        salary['Standard tax'] = salary['Standard rate pay'] * 0.2#To calculate Standard tax\n",
    "        salary['Higher tax'] = round(salary['Higher rate pay'] * 0.4, 2)#To calculate Higher tax\n",
    "        salary['Total tax'] = round(salary['Standard tax'] + salary['Higher tax'], 2)#To calculate Total tax \n",
    "        salary['Tax credit'] = self.Taxcredit\n",
    "        salary['PRSI'] = salary['Gross pay'] * 0.4#To calculate PRSI\n",
    "        salary['Net tax'] =round(salary['Total tax'] - salary['Tax credit'], 2)#To calculate Net tax\n",
    "        salary['Net deductions'] = round(salary['Net tax'] + salary['PRSI'], 2)#To calculate Net deduction\n",
    "        salary['Net pay'] = max(0, salary['Gross pay'] - salary['Net deductions'])#To calculate Net pay\n",
    "        \n",
    "        return salary\n",
    "\n",
    "jg=Employee(12345,'Green','Joe',37,16,1.5,72,710)\n",
    "jg.computepayment(42,'30/01/2022')\n",
    "\n"
   ]
  },
  {
   "cell_type": "code",
   "execution_count": 9,
   "metadata": {},
   "outputs": [
    {
     "ename": "KeyError",
     "evalue": "'PRSI'",
     "output_type": "error",
     "traceback": [
      "\u001b[1;31m---------------------------------------------------------------------------\u001b[0m",
      "\u001b[1;31mKeyError\u001b[0m                                  Traceback (most recent call last)",
      "\u001b[1;32m<ipython-input-9-4fc73f6112fb>\u001b[0m in \u001b[0;36m<module>\u001b[1;34m\u001b[0m\n\u001b[1;32m----> 1\u001b[1;33m \u001b[0mjg\u001b[0m\u001b[1;33m.\u001b[0m\u001b[0mcomputepayment\u001b[0m\u001b[1;33m(\u001b[0m\u001b[1;36m42\u001b[0m\u001b[1;33m,\u001b[0m\u001b[1;34m'30/01/2022'\u001b[0m\u001b[1;33m)\u001b[0m\u001b[1;33m\u001b[0m\u001b[1;33m\u001b[0m\u001b[0m\n\u001b[0m",
      "\u001b[1;32m<ipython-input-8-588b57a5e94b>\u001b[0m in \u001b[0;36mcomputepayment\u001b[1;34m(self, Hoursworked, Date)\u001b[0m\n\u001b[0;32m     51\u001b[0m \u001b[1;33m\u001b[0m\u001b[0m\n\u001b[0;32m     52\u001b[0m        \u001b[0msalary\u001b[0m\u001b[1;33m[\u001b[0m\u001b[1;34m'Net tax'\u001b[0m\u001b[1;33m]\u001b[0m \u001b[1;33m=\u001b[0m\u001b[0mround\u001b[0m\u001b[1;33m(\u001b[0m\u001b[0msalary\u001b[0m\u001b[1;33m[\u001b[0m\u001b[1;34m'Total tax'\u001b[0m\u001b[1;33m]\u001b[0m \u001b[1;33m-\u001b[0m \u001b[0msalary\u001b[0m\u001b[1;33m[\u001b[0m\u001b[1;34m'Tax credit'\u001b[0m\u001b[1;33m]\u001b[0m\u001b[1;33m,\u001b[0m \u001b[1;36m2\u001b[0m\u001b[1;33m)\u001b[0m\u001b[1;31m#To calculate Net tax\u001b[0m\u001b[1;33m\u001b[0m\u001b[1;33m\u001b[0m\u001b[0m\n\u001b[1;32m---> 53\u001b[1;33m        \u001b[0msalary\u001b[0m\u001b[1;33m[\u001b[0m\u001b[1;34m'Net deductions'\u001b[0m\u001b[1;33m]\u001b[0m \u001b[1;33m=\u001b[0m \u001b[0mround\u001b[0m\u001b[1;33m(\u001b[0m\u001b[0msalary\u001b[0m\u001b[1;33m[\u001b[0m\u001b[1;34m'Net tax'\u001b[0m\u001b[1;33m]\u001b[0m \u001b[1;33m+\u001b[0m \u001b[0msalary\u001b[0m\u001b[1;33m[\u001b[0m\u001b[1;34m'PRSI'\u001b[0m\u001b[1;33m]\u001b[0m\u001b[1;33m,\u001b[0m \u001b[1;36m2\u001b[0m\u001b[1;33m)\u001b[0m\u001b[1;31m#To calculate Net deduction\u001b[0m\u001b[1;33m\u001b[0m\u001b[1;33m\u001b[0m\u001b[0m\n\u001b[0m\u001b[0;32m     54\u001b[0m        \u001b[0msalary\u001b[0m\u001b[1;33m[\u001b[0m\u001b[1;34m'Net pay'\u001b[0m\u001b[1;33m]\u001b[0m \u001b[1;33m=\u001b[0m \u001b[0mmax\u001b[0m\u001b[1;33m(\u001b[0m\u001b[1;36m0\u001b[0m\u001b[1;33m,\u001b[0m \u001b[0msalary\u001b[0m\u001b[1;33m[\u001b[0m\u001b[1;34m'Gross pay'\u001b[0m\u001b[1;33m]\u001b[0m \u001b[1;33m-\u001b[0m \u001b[0msalary\u001b[0m\u001b[1;33m[\u001b[0m\u001b[1;34m'Net deductions'\u001b[0m\u001b[1;33m]\u001b[0m\u001b[1;33m)\u001b[0m\u001b[1;31m#To calculate Net pay\u001b[0m\u001b[1;33m\u001b[0m\u001b[1;33m\u001b[0m\u001b[0m\n\u001b[0;32m     55\u001b[0m        \u001b[0msalary\u001b[0m\u001b[1;33m[\u001b[0m\u001b[1;34m'PRSI'\u001b[0m\u001b[1;33m]\u001b[0m \u001b[1;33m=\u001b[0m \u001b[0msalary\u001b[0m\u001b[1;33m[\u001b[0m\u001b[1;34m'Gross pay'\u001b[0m\u001b[1;33m]\u001b[0m \u001b[1;33m*\u001b[0m \u001b[1;36m0.4\u001b[0m\u001b[1;31m#To calculate PRSI\u001b[0m\u001b[1;33m\u001b[0m\u001b[1;33m\u001b[0m\u001b[0m\n",
      "\u001b[1;31mKeyError\u001b[0m: 'PRSI'"
     ]
    }
   ],
   "source": []
  }
 ],
 "metadata": {
  "interpreter": {
   "hash": "730a220afaa780f473f8bdfbba5dbdc0d3bd36ad71e58c5526d7461db153a00d"
  },
  "kernelspec": {
   "display_name": "Python 3.9.1 64-bit",
   "language": "python",
   "name": "python3"
  },
  "language_info": {
   "codemirror_mode": {
    "name": "ipython",
    "version": 3
   },
   "file_extension": ".py",
   "mimetype": "text/x-python",
   "name": "python",
   "nbconvert_exporter": "python",
   "pygments_lexer": "ipython3",
   "version": "3.9.1"
  },
  "orig_nbformat": 4
 },
 "nbformat": 4,
 "nbformat_minor": 2
}
