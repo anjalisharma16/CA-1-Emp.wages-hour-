{
 "cells": [
  {
   "cell_type": "code",
   "execution_count": 6,
   "metadata": {},
   "outputs": [
    {
     "data": {
      "text/plain": [
       "{'Name': 'Green ',\n",
       " 'Date': '30/01/2022',\n",
       " 'RHW': 37,\n",
       " 'OHW': 5,\n",
       " 'Regular rate': 16,\n",
       " 'Overtime rate': 24.0,\n",
       " 'Regular pay': 592,\n",
       " 'Overtime pay': 120.0,\n",
       " 'Gross pay': 712.0,\n",
       " 'Standard rate pay': 710,\n",
       " 'Higher rate pay': 2.0,\n",
       " 'Standard tax': 142.0,\n",
       " 'Higher tax': 0.8,\n",
       " 'Total tax': 142.8,\n",
       " 'Tax credit': 72,\n",
       " 'PRSI': 284.8,\n",
       " 'Net tax': 70.8,\n",
       " 'Net deductions': 355.6,\n",
       " 'Net pay': 356.4}"
      ]
     },
     "execution_count": 6,
     "metadata": {},
     "output_type": "execute_result"
    }
   ],
   "source": [
    "# Imports\n",
    "import unittest as ut\n",
    "\n",
    " #Implement Employee Details\n",
    "with open('Employees.txt','w') as f:\n",
    "    f.write('''12345 Green Joe 37 16 1.5 72 710''')\n",
    "    f.close()\n",
    "#Implement Hours Details \n",
    "with open('Hours.txt','w') as f1:\n",
    "    f1.write('''12345 31/10/2021  42''')\n",
    "    f1.close()\n",
    "\n",
    "#create employee class and attributes\n",
    "class Employee:\n",
    "    Employees = {}\n",
    "    Std_rate = 0.2\n",
    "    Higher_rate = 0.4\n",
    "    \n",
    "    def __init__(self, staffId, Firstname, Lastname, Reghours, Hourlyrate, OTMultiple, Taxcredit, Standardband):\n",
    "        self.Employees = {}   \n",
    "        self.staffId = int(staffId)\n",
    "        self.Firstname = str(Firstname)\n",
    "        self.Lastname = str(Lastname)\n",
    "        self.Reghours = int(Reghours)\n",
    "        if Reghours <=0:\n",
    "            raise ValueError(\"incorrect value! hours should be more than 0\")\n",
    "        self.Hourlyrate = int(Hourlyrate)\n",
    "        if Hourlyrate <= 0:\n",
    "            raise ValueError(\"incorrect value! hours should be more than 0\")\n",
    "        self.OTMultiple = float(OTMultiple)\n",
    "        if OTMultiple < 0:\n",
    "            raise ValueError(\"incorrect value! hours should be more than 0\")\n",
    "        self.Taxcredit = int(Taxcredit)\n",
    "        if Taxcredit < 0:\n",
    "            raise ValueError(\"incorrect value! hours should be more than 0\")\n",
    "        self.Standardband = int(Standardband)\n",
    "        if Standardband < 0:\n",
    "            raise ValueError(\"incorrect value! hours should be more than 0\")\n",
    "\n",
    "\n",
    "    def configure(Employeesfile):\n",
    "        with open(Employeesfile) as f:\n",
    "            for line in f:\n",
    "                staffId,Firstname,Lastname,Reghours,Hourlyrate,OTMultiple,Taxcredit,Standardband = line.split()\n",
    "                Employee.Employees[staffId] = Employee(staffId,Firstname,Lastname,int(Reghours),int(Hourlyrate),float(OTMultiple),int(Taxcredit),int(Standardband))\n",
    "\n",
    "    def computepayment(self, Hoursworked, Date):\n",
    "        salary = dict()\n",
    "        salary['Name'] = self.Firstname + \" \"\n",
    "        salary['Date'] = Date\n",
    "        salary['RHW'] = min(Hoursworked, self.Reghours)#To calculate Regular Hours Worked\n",
    "        if Hoursworked < 0:\n",
    "            raise ValueError('hours worked cannot be negative')\n",
    "        salary['OHW'] = max(0, Hoursworked - self.Reghours)#To calculate OverTime Hours Worked\n",
    "        salary['Regular rate'] = self.Hourlyrate\n",
    "        salary['Overtime rate'] = self.Hourlyrate * self.OTMultiple#To calculate Overtime rate\n",
    "        salary['Regular pay'] = self.Hourlyrate * salary['RHW']#To calculate Regular pay\n",
    "        salary['Overtime pay'] = max(salary['Overtime rate'] * salary['OHW'], 0)#To calculate Overtime pay\n",
    "        salary['Gross pay'] = salary['Regular pay'] + salary['Overtime pay']#To calculate Gross pay\n",
    "        salary['Standard rate pay'] = self.Standardband\n",
    "        salary['Higher rate pay'] = max(salary['Gross pay'] - self.Standardband, 0)#To calculate Higher rate pay\n",
    "        salary['Standard tax'] = salary['Standard rate pay'] * 0.2#To calculate Standard tax\n",
    "        salary['Higher tax'] = round(salary['Higher rate pay'] * 0.4, 2)#To calculate Higher tax\n",
    "        salary['Total tax'] = round(salary['Standard tax'] + salary['Higher tax'], 2)#To calculate Total tax \n",
    "        salary['Tax credit'] = self.Taxcredit\n",
    "        salary['PRSI'] = salary['Gross pay'] * 0.4#To calculate PRSI\n",
    "        salary['Net tax'] =round(salary['Total tax'] - salary['Tax credit'], 2)#To calculate Net tax\n",
    "        salary['Net deductions'] = round(salary['Net tax'] + salary['PRSI'], 2)#To calculate Net deduction\n",
    "        salary['Net pay'] = max(0, salary['Gross pay'] - salary['Net deductions'])#To calculate Net pay\n",
    "        \n",
    "        return salary\n",
    "\n",
    "jg=Employee(12345,'Green','Joe',37,16,1.5,72,710)\n",
    "jg.computepayment(42,'30/01/2022')\n",
    "\n"
   ]
  },
  {
   "cell_type": "code",
   "execution_count": 7,
   "metadata": {},
   "outputs": [],
   "source": [
    "class TestEmployee(ut.TestCase):\n",
    "\n",
    "    def test_hoursnotnegative(self):\n",
    "        jb = Employee(12345,'Green','Joe',37, 16, 1.5, 72, 710)\n",
    "        with self.assertRaises(ValueError):\n",
    "            jb.computepayment(-40, '31/10/2021')\n",
    "\n",
    "    def testnegativeotpay(self):\n",
    "        jb = Employee(1234,'Green','Joe', 37, 16, 1.5,72,710)\n",
    "        otpay = jb.computepayment(100, '27/03/2023')\n",
    "        self.assertGreaterEqual(otpay['Overtime pay'], 0)\n",
    "        self.assertGreaterEqual(otpay['OHW'], 0)\n"
   ]
  },
  {
   "cell_type": "code",
   "execution_count": 8,
   "metadata": {},
   "outputs": [
    {
     "name": "stderr",
     "output_type": "stream",
     "text": [
      "..\n",
      "----------------------------------------------------------------------\n",
      "Ran 2 tests in 0.003s\n",
      "\n",
      "OK\n"
     ]
    },
    {
     "data": {
      "text/plain": [
       "<unittest.main.TestProgram at 0x23f54922f40>"
      ]
     },
     "execution_count": 8,
     "metadata": {},
     "output_type": "execute_result"
    }
   ],
   "source": [
    "ut.main(argv=['ignored'], exit=False)"
   ]
  }
 ],
 "metadata": {
  "interpreter": {
   "hash": "730a220afaa780f473f8bdfbba5dbdc0d3bd36ad71e58c5526d7461db153a00d"
  },
  "kernelspec": {
   "display_name": "Python 3.9.1 64-bit",
   "language": "python",
   "name": "python3"
  },
  "language_info": {
   "codemirror_mode": {
    "name": "ipython",
    "version": 3
   },
   "file_extension": ".py",
   "mimetype": "text/x-python",
   "name": "python",
   "nbconvert_exporter": "python",
   "pygments_lexer": "ipython3",
   "version": "3.9.1"
  },
  "orig_nbformat": 4
 },
 "nbformat": 4,
 "nbformat_minor": 2
}
